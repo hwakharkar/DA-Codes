{
 "cells": [
  {
   "cell_type": "markdown",
   "id": "f5fe953f",
   "metadata": {},
   "source": [
    "# IPL Captain Database"
   ]
  },
  {
   "cell_type": "code",
   "execution_count": 1,
   "id": "c5e7d1f6",
   "metadata": {},
   "outputs": [],
   "source": [
    "teams = [\"Chennai\", \"Bangalore\", \"Mumbai\", \"Rajasthan\",\"Gujarat\",\"Lucknow\",\"Kolkata\",\"Punjab\",\"Delhi\",\"Hyderabad\"]"
   ]
  },
  {
   "cell_type": "code",
   "execution_count": 3,
   "id": "f4ebfc01",
   "metadata": {},
   "outputs": [],
   "source": [
    "captains = [\"Dhoni\",\"Kohli\",\"Rohit\",\"Samson\",\"Pandya\",\"Rahul\",\"Shreyas\",\"Mayank\",\"Pant\",\"Kane\"]"
   ]
  },
  {
   "cell_type": "code",
   "execution_count": 4,
   "id": "7fb5c8c0",
   "metadata": {},
   "outputs": [],
   "source": [
    "seasons = [\"2013\",\"2014\",\"2015\",\"2016\",\"2017\",\"2018\",\"2019\",\"2020\",\"2011\",\"2022\"]"
   ]
  },
  {
   "cell_type": "code",
   "execution_count": 5,
   "id": "347fff01",
   "metadata": {},
   "outputs": [],
   "source": [
    "Sdict = {\"2013\":0,\"2014\":1,\"2015\":2,\"2016\":3,\"2017\":4,\"2018\":5,\"2019\":6,\"2020\":7,\"2011\":8,\"2022\":9}"
   ]
  },
  {
   "cell_type": "code",
   "execution_count": 6,
   "id": "c502cb77",
   "metadata": {},
   "outputs": [
    {
     "data": {
      "text/plain": [
       "{'2013': 0,\n",
       " '2014': 1,\n",
       " '2015': 2,\n",
       " '2016': 3,\n",
       " '2017': 4,\n",
       " '2018': 5,\n",
       " '2019': 6,\n",
       " '2020': 7,\n",
       " '2011': 8,\n",
       " '2022': 9}"
      ]
     },
     "execution_count": 6,
     "metadata": {},
     "output_type": "execute_result"
    }
   ],
   "source": []
  },
  {
   "cell_type": "code",
   "execution_count": null,
   "id": "39e02ed3",
   "metadata": {},
   "outputs": [],
   "source": []
  }
 ],
 "metadata": {
  "kernelspec": {
   "display_name": "Python 3 (ipykernel)",
   "language": "python",
   "name": "python3"
  },
  "language_info": {
   "codemirror_mode": {
    "name": "ipython",
    "version": 3
   },
   "file_extension": ".py",
   "mimetype": "text/x-python",
   "name": "python",
   "nbconvert_exporter": "python",
   "pygments_lexer": "ipython3",
   "version": "3.10.1"
  }
 },
 "nbformat": 4,
 "nbformat_minor": 5
}
